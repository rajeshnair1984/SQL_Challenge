{
 "cells": [
  {
   "cell_type": "code",
   "execution_count": 29,
   "metadata": {},
   "outputs": [],
   "source": [
    "import pandas as pd\n",
    "import matplotlib.pyplot as plt\n",
    "from sqlalchemy import create_engine\n",
    "from config import username, password, hostname, port, DB\n"
   ]
  },
  {
   "cell_type": "code",
   "execution_count": 30,
   "metadata": {},
   "outputs": [],
   "source": [
    "\n",
    "employee_uri = f'postgresql://{username}:{password}@{hostname}:{port}/{DB}'\n",
    "engine = create_engine(employee_uri, echo=True) "
   ]
  },
  {
   "cell_type": "code",
   "execution_count": 31,
   "metadata": {},
   "outputs": [
    {
     "name": "stdout",
     "output_type": "stream",
     "text": [
      "2021-05-15 17:11:30,169 INFO sqlalchemy.engine.base.Engine select version()\n",
      "2021-05-15 17:11:30,169 INFO sqlalchemy.engine.base.Engine {}\n",
      "2021-05-15 17:11:30,170 INFO sqlalchemy.engine.base.Engine select current_schema()\n",
      "2021-05-15 17:11:30,170 INFO sqlalchemy.engine.base.Engine {}\n",
      "2021-05-15 17:11:30,172 INFO sqlalchemy.engine.base.Engine SELECT CAST('test plain returns' AS VARCHAR(60)) AS anon_1\n",
      "2021-05-15 17:11:30,173 INFO sqlalchemy.engine.base.Engine {}\n",
      "2021-05-15 17:11:30,175 INFO sqlalchemy.engine.base.Engine SELECT CAST('test unicode returns' AS VARCHAR(60)) AS anon_1\n",
      "2021-05-15 17:11:30,175 INFO sqlalchemy.engine.base.Engine {}\n",
      "2021-05-15 17:11:30,176 INFO sqlalchemy.engine.base.Engine show standard_conforming_strings\n",
      "2021-05-15 17:11:30,176 INFO sqlalchemy.engine.base.Engine {}\n"
     ]
    }
   ],
   "source": [
    "connection = engine.connect()"
   ]
  },
  {
   "cell_type": "code",
   "execution_count": 32,
   "metadata": {},
   "outputs": [
    {
     "name": "stdout",
     "output_type": "stream",
     "text": [
      "2021-05-15 17:11:30,957 INFO sqlalchemy.engine.base.Engine select relname from pg_class c join pg_namespace n on n.oid=c.relnamespace where pg_catalog.pg_table_is_visible(c.oid) and relname=%(name)s\n",
      "2021-05-15 17:11:30,958 INFO sqlalchemy.engine.base.Engine {'name': 'SELECT * FROM salaries'}\n",
      "2021-05-15 17:11:30,961 INFO sqlalchemy.engine.base.Engine SELECT * FROM salaries\n",
      "2021-05-15 17:11:30,962 INFO sqlalchemy.engine.base.Engine {}\n"
     ]
    }
   ],
   "source": [
    "salary_df = pd.read_sql(\"SELECT * FROM salaries\",connection)"
   ]
  },
  {
   "cell_type": "code",
   "execution_count": 33,
   "metadata": {},
   "outputs": [
    {
     "data": {
      "text/html": [
       "<div>\n",
       "<style scoped>\n",
       "    .dataframe tbody tr th:only-of-type {\n",
       "        vertical-align: middle;\n",
       "    }\n",
       "\n",
       "    .dataframe tbody tr th {\n",
       "        vertical-align: top;\n",
       "    }\n",
       "\n",
       "    .dataframe thead th {\n",
       "        text-align: right;\n",
       "    }\n",
       "</style>\n",
       "<table border=\"1\" class=\"dataframe\">\n",
       "  <thead>\n",
       "    <tr style=\"text-align: right;\">\n",
       "      <th></th>\n",
       "      <th>emp_no</th>\n",
       "      <th>salary</th>\n",
       "    </tr>\n",
       "  </thead>\n",
       "  <tbody>\n",
       "    <tr>\n",
       "      <th>0</th>\n",
       "      <td>10001</td>\n",
       "      <td>60117</td>\n",
       "    </tr>\n",
       "    <tr>\n",
       "      <th>1</th>\n",
       "      <td>10002</td>\n",
       "      <td>65828</td>\n",
       "    </tr>\n",
       "    <tr>\n",
       "      <th>2</th>\n",
       "      <td>10003</td>\n",
       "      <td>40006</td>\n",
       "    </tr>\n",
       "    <tr>\n",
       "      <th>3</th>\n",
       "      <td>10004</td>\n",
       "      <td>40054</td>\n",
       "    </tr>\n",
       "    <tr>\n",
       "      <th>4</th>\n",
       "      <td>10005</td>\n",
       "      <td>78228</td>\n",
       "    </tr>\n",
       "  </tbody>\n",
       "</table>\n",
       "</div>"
      ],
      "text/plain": [
       "   emp_no  salary\n",
       "0   10001   60117\n",
       "1   10002   65828\n",
       "2   10003   40006\n",
       "3   10004   40054\n",
       "4   10005   78228"
      ]
     },
     "execution_count": 33,
     "metadata": {},
     "output_type": "execute_result"
    }
   ],
   "source": [
    "salary_df.head()"
   ]
  },
  {
   "cell_type": "code",
   "execution_count": 34,
   "metadata": {},
   "outputs": [
    {
     "data": {
      "text/plain": [
       "0         60117\n",
       "1         65828\n",
       "2         40006\n",
       "3         40054\n",
       "4         78228\n",
       "          ...  \n",
       "300019    40000\n",
       "300020    58058\n",
       "300021    49597\n",
       "300022    40000\n",
       "300023    63707\n",
       "Name: salary, Length: 300024, dtype: int64"
      ]
     },
     "execution_count": 34,
     "metadata": {},
     "output_type": "execute_result"
    }
   ],
   "source": [
    "salary_df[\"salary\"]"
   ]
  },
  {
   "cell_type": "code",
   "execution_count": 49,
   "metadata": {},
   "outputs": [
    {
     "data": {
      "image/png": "[encoded data removed]",
      "text/plain": [
       "<Figure size 432x288 with 1 Axes>"
      ]
     },
     "metadata": {
      "needs_background": "light"
     },
     "output_type": "display_data"
    }
   ],
   "source": [
    "plt.hist(salary_df[\"salary\"], bins = 10)\n",
    "plt.ylabel(\"Number of Employees\")\n",
    "plt.xlabel(\"Salary\")\n",
    "plt.title(\"Salary ranges for employees\")\n",
    "plt.savefig(\"SalaryRangeEmployees\",dpi=300)\n",
    "plt.show()"
   ]
  },
  {
   "cell_type": "code",
   "execution_count": 36,
   "metadata": {},
   "outputs": [
    {
     "name": "stdout",
     "output_type": "stream",
     "text": [
      "2021-05-15 17:11:39,733 INFO sqlalchemy.engine.base.Engine select relname from pg_class c join pg_namespace n on n.oid=c.relnamespace where pg_catalog.pg_table_is_visible(c.oid) and relname=%(name)s\n",
      "2021-05-15 17:11:39,734 INFO sqlalchemy.engine.base.Engine {'name': 'SELECT titles.title, AVG(s.salary) AS Average_Salary FROM employees AS e LEFT JOIN salaries AS s ON e.emp_no = s.emp_no LEFT JOIN titles ON e.emp_title = titles.title_id GROUP BY titles.title ORDER BY Average_Salary DESC'}\n",
      "2021-05-15 17:11:39,736 INFO sqlalchemy.engine.base.Engine SELECT titles.title, AVG(s.salary) AS Average_Salary FROM employees AS e LEFT JOIN salaries AS s ON e.emp_no = s.emp_no LEFT JOIN titles ON e.emp_title = titles.title_id GROUP BY titles.title ORDER BY Average_Salary DESC\n",
      "2021-05-15 17:11:39,737 INFO sqlalchemy.engine.base.Engine {}\n"
     ]
    }
   ],
   "source": [
    "query = \"SELECT titles.title, AVG(s.salary) AS Average_Salary \\\n",
    "FROM employees AS e \\\n",
    "LEFT JOIN salaries AS s ON e.emp_no = s.emp_no \\\n",
    "LEFT JOIN titles ON e.emp_title = titles.title_id \\\n",
    "GROUP BY titles.title \\\n",
    "ORDER BY Average_Salary DESC\"\n",
    "\n",
    "AVG_salary = pd.read_sql(query,con = connection)"
   ]
  },
  {
   "cell_type": "code",
   "execution_count": 28,
   "metadata": {},
   "outputs": [
    {
     "data": {
      "text/html": [
       "<div>\n",
       "<style scoped>\n",
       "    .dataframe tbody tr th:only-of-type {\n",
       "        vertical-align: middle;\n",
       "    }\n",
       "\n",
       "    .dataframe tbody tr th {\n",
       "        vertical-align: top;\n",
       "    }\n",
       "\n",
       "    .dataframe thead th {\n",
       "        text-align: right;\n",
       "    }\n",
       "</style>\n",
       "<table border=\"1\" class=\"dataframe\">\n",
       "  <thead>\n",
       "    <tr style=\"text-align: right;\">\n",
       "      <th></th>\n",
       "      <th>title</th>\n",
       "      <th>average_salary</th>\n",
       "    </tr>\n",
       "  </thead>\n",
       "  <tbody>\n",
       "    <tr>\n",
       "      <th>0</th>\n",
       "      <td>Senior Staff</td>\n",
       "      <td>58550.172704</td>\n",
       "    </tr>\n",
       "    <tr>\n",
       "      <th>1</th>\n",
       "      <td>Staff</td>\n",
       "      <td>58465.382850</td>\n",
       "    </tr>\n",
       "    <tr>\n",
       "      <th>2</th>\n",
       "      <td>Manager</td>\n",
       "      <td>51531.041667</td>\n",
       "    </tr>\n",
       "    <tr>\n",
       "      <th>3</th>\n",
       "      <td>Technique Leader</td>\n",
       "      <td>48582.896092</td>\n",
       "    </tr>\n",
       "    <tr>\n",
       "      <th>4</th>\n",
       "      <td>Assistant Engineer</td>\n",
       "      <td>48564.434447</td>\n",
       "    </tr>\n",
       "    <tr>\n",
       "      <th>5</th>\n",
       "      <td>Engineer</td>\n",
       "      <td>48535.336511</td>\n",
       "    </tr>\n",
       "    <tr>\n",
       "      <th>6</th>\n",
       "      <td>Senior Engineer</td>\n",
       "      <td>48506.799871</td>\n",
       "    </tr>\n",
       "  </tbody>\n",
       "</table>\n",
       "</div>"
      ],
      "text/plain": [
       "                title  average_salary\n",
       "0        Senior Staff    58550.172704\n",
       "1               Staff    58465.382850\n",
       "2             Manager    51531.041667\n",
       "3    Technique Leader    48582.896092\n",
       "4  Assistant Engineer    48564.434447\n",
       "5            Engineer    48535.336511\n",
       "6     Senior Engineer    48506.799871"
      ]
     },
     "execution_count": 28,
     "metadata": {},
     "output_type": "execute_result"
    }
   ],
   "source": [
    "AVG_salary"
   ]
  },
  {
   "cell_type": "code",
   "execution_count": 52,
   "metadata": {},
   "outputs": [
    {
     "data": {
      "image/png": "[encoded data removed]",
      "text/plain": [
       "<Figure size 432x288 with 1 Axes>"
      ]
     },
     "metadata": {
      "needs_background": "light"
     },
     "output_type": "display_data"
    }
   ],
   "source": [
    "xaxis = AVG_salary[\"title\"]\n",
    "yaxis = AVG_salary[\"average_salary\"]\n",
    "plt.bar(xaxis,yaxis)\n",
    "plt.title('Average Salary VS title')\n",
    "plt.xticks(rotation=90)\n",
    "plt.xlabel('Title')\n",
    "plt.ylabel('Average Salary')\n",
    "plt.savefig(\"AveragesalaryVStitle\",dpi=100)\n",
    "plt.show()"
   ]
  },
  {
   "cell_type": "code",
   "execution_count": 46,
   "metadata": {},
   "outputs": [
    {
     "name": "stdout",
     "output_type": "stream",
     "text": [
      "2021-05-15 17:24:41,804 INFO sqlalchemy.engine.base.Engine select relname from pg_class c join pg_namespace n on n.oid=c.relnamespace where pg_catalog.pg_table_is_visible(c.oid) and relname=%(name)s\n",
      "2021-05-15 17:24:41,805 INFO sqlalchemy.engine.base.Engine {'name': 'SELECT * FROM employees WHERE emp_no = 499942'}\n",
      "2021-05-15 17:24:41,806 INFO sqlalchemy.engine.base.Engine SELECT * FROM employees WHERE emp_no = 499942\n",
      "2021-05-15 17:24:41,807 INFO sqlalchemy.engine.base.Engine {}\n"
     ]
    }
   ],
   "source": [
    "query = \"SELECT * FROM employees WHERE emp_no = 499942\"\n",
    "myid = pd.read_sql(query,con = connection)\n"
   ]
  },
  {
   "cell_type": "code",
   "execution_count": 45,
   "metadata": {},
   "outputs": [
    {
     "data": {
      "text/html": [
       "<div>\n",
       "<style scoped>\n",
       "    .dataframe tbody tr th:only-of-type {\n",
       "        vertical-align: middle;\n",
       "    }\n",
       "\n",
       "    .dataframe tbody tr th {\n",
       "        vertical-align: top;\n",
       "    }\n",
       "\n",
       "    .dataframe thead th {\n",
       "        text-align: right;\n",
       "    }\n",
       "</style>\n",
       "<table border=\"1\" class=\"dataframe\">\n",
       "  <thead>\n",
       "    <tr style=\"text-align: right;\">\n",
       "      <th></th>\n",
       "      <th>emp_no</th>\n",
       "      <th>emp_title</th>\n",
       "      <th>birth_date</th>\n",
       "      <th>first_name</th>\n",
       "      <th>last_name</th>\n",
       "      <th>sex</th>\n",
       "      <th>hire_date</th>\n",
       "    </tr>\n",
       "  </thead>\n",
       "  <tbody>\n",
       "    <tr>\n",
       "      <th>0</th>\n",
       "      <td>499942</td>\n",
       "      <td>e0004</td>\n",
       "      <td>1963-01-10</td>\n",
       "      <td>April</td>\n",
       "      <td>Foolsday</td>\n",
       "      <td>F</td>\n",
       "      <td>1997-02-10</td>\n",
       "    </tr>\n",
       "  </tbody>\n",
       "</table>\n",
       "</div>"
      ],
      "text/plain": [
       "   emp_no emp_title  birth_date first_name last_name sex   hire_date\n",
       "0  499942     e0004  1963-01-10      April  Foolsday   F  1997-02-10"
      ]
     },
     "execution_count": 45,
     "metadata": {},
     "output_type": "execute_result"
    }
   ],
   "source": [
    "myid"
   ]
  },
  {
   "cell_type": "code",
   "execution_count": null,
   "metadata": {},
   "outputs": [],
   "source": []
  }
 ],
 "metadata": {
  "kernelspec": {
   "display_name": "Python 3",
   "language": "python",
   "name": "python3"
  },
  "language_info": {
   "codemirror_mode": {
    "name": "ipython",
    "version": 3
   },
   "file_extension": ".py",
   "mimetype": "text/x-python",
   "name": "python",
   "nbconvert_exporter": "python",
   "pygments_lexer": "ipython3",
   "version": "3.8.5"
  }
 },
 "nbformat": 4,
 "nbformat_minor": 4
}
